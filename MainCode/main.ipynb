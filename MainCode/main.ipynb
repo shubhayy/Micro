{
 "cells": [
  {
   "cell_type": "code",
   "execution_count": 1,
   "metadata": {},
   "outputs": [
    {
     "name": "stdout",
     "output_type": "stream",
     "text": [
      "[[0.22692459 0.59101759]\n",
      " [0.3540305  0.28186958]\n",
      " [0.40271811 0.01683664]\n",
      " ...\n",
      " [0.54310778 0.65835836]\n",
      " [0.32594619 0.33782743]\n",
      " [0.66084551 0.2317424 ]]\n",
      "       Column1   Column2\n",
      "0     0.567653  0.291122\n",
      "1     0.714957  0.257233\n",
      "2     0.820658  0.782350\n",
      "3     0.985950  0.073565\n",
      "4     0.818394  0.773097\n",
      "...        ...       ...\n",
      "9995  0.491157  0.552333\n",
      "9996  0.835767  0.197773\n",
      "9997  0.543108  0.658358\n",
      "9998  0.325946  0.337827\n",
      "9999  0.660846  0.231742\n",
      "\n",
      "[10000 rows x 2 columns]\n"
     ]
    }
   ],
   "source": [
    "import numpy as np\n",
    "import pandas as pd \n",
    "\n",
    "def reshape_data(data, target_rows):\n",
    "    \"\"\"\n",
    "    Reshape the data to the target number of rows.\n",
    "    \n",
    "    Parameters:\n",
    "    - data: A 2D numpy array or pandas DataFrame with 2 columns\n",
    "    - target_rows: The desired number of rows\n",
    "    \n",
    "    Returns:\n",
    "    - reshaped_data: The reshaped data as a pandas DataFrame\n",
    "    \"\"\"\n",
    "    num_rows = data.shape[0]\n",
    "    \n",
    "    if num_rows < target_rows:\n",
    "        # Padding with zeros\n",
    "        padding = np.zeros((target_rows - num_rows, data.shape[1]))\n",
    "        reshaped_data = np.vstack([data, padding])\n",
    "    elif num_rows > target_rows:\n",
    "        # Shaving off rows from the beginning\n",
    "        reshaped_data = data[num_rows - target_rows:, :]\n",
    "    else:\n",
    "        reshaped_data = data\n",
    "    \n",
    "    return pd.DataFrame(reshaped_data, columns=[\"Column1\", \"Column2\"])\n",
    "\n",
    "# Example usage\n",
    "data = np.random.rand(30000, 2)  # Replace with your data\n",
    "\n",
    "\n",
    "target_rows = 10000\n",
    "reshaped_data = reshape_data(data, target_rows)\n",
    "print(reshaped_data)\n"
   ]
  }
 ],
 "metadata": {
  "kernelspec": {
   "display_name": "Python 3",
   "language": "python",
   "name": "python3"
  },
  "language_info": {
   "codemirror_mode": {
    "name": "ipython",
    "version": 3
   },
   "file_extension": ".py",
   "mimetype": "text/x-python",
   "name": "python",
   "nbconvert_exporter": "python",
   "pygments_lexer": "ipython3",
   "version": "3.12.3"
  }
 },
 "nbformat": 4,
 "nbformat_minor": 2
}
